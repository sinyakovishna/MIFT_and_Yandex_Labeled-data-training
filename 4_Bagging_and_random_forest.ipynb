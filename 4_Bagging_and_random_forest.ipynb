{
  "nbformat": 4,
  "nbformat_minor": 0,
  "metadata": {
    "colab": {
      "name": "Неделя 4_Бэггинг и случайный лес.ipynb",
      "provenance": []
    },
    "kernelspec": {
      "display_name": "Python 3",
      "name": "python3"
    }
  },
  "cells": [
    {
      "cell_type": "markdown",
      "metadata": {
        "id": "iH0PGuFjE1AP"
      },
      "source": [
        "Загрузите датасет digits с помощью функции load_digits из sklearn.datasets и подготовьте матрицу признаков X и ответы на обучающей выборке y (вам потребуются поля data и target в объекте, который возвращает load_digits). \n",
        "\n",
        "Для оценки качества далее нужно будет использовать cross_val_score из sklearn.model_selection с параметром cv=10. Эта функция реализует k-fold cross validation c k равным значению параметра cv. Мы предлагаем использовать k=10, чтобы полученные оценки качества имели небольшой разброс, и было проще проверить полученные ответы. На практике же часто хватает и k=5. Функция cross_val_score будет возвращать numpy.ndarray, в котором будет k чисел - качество в каждом из k экспериментов k-fold cross validation. Для получения среднего значения (которое и будет оценкой качества работы) вызовите метод .mean() у массива, который возвращает cross_val_score.\n",
        "\n",
        "С небольшой вероятностью вы можете натолкнуться на случай, когда полученное вами качество в каком-то из пунктов не попадет в диапазон, заданный для правильных ответов - в этом случае попробуйте перезапустить ячейку с cross_val_score несколько раз и выбрать наиболее «типичное» значение. Если это не помогает, то где-то была допущена ошибка.\n",
        "\n",
        "Если вам захочется ускорить вычисление cross_val_score - можете попробовать использовать параметр n_jobs, но будьте осторожны: в одной из старых версий sklearn была ошибка, которая приводила к неверному результату работы cross_val_score при задании n_jobs отличным от 1. Сейчас такой проблемы возникнуть не должно, но проверить, что все в порядке, не будет лишним."
      ]
    },
    {
      "cell_type": "code",
      "metadata": {
        "id": "F9OKLvY5XqtW"
      },
      "source": [
        "from sklearn import datasets, model_selection\n",
        "from sklearn.tree import DecisionTreeClassifier\n",
        "from sklearn.ensemble import BaggingClassifier, RandomForestClassifier\n",
        "import numpy as np\n",
        "import pandas as pd"
      ],
      "execution_count": null,
      "outputs": []
    },
    {
      "cell_type": "code",
      "metadata": {
        "colab": {
          "base_uri": "https://localhost:8080/"
        },
        "id": "cpJe6ZARuENU",
        "outputId": "eb4b2493-1347-4b2d-d8b7-6285d4b07d25"
      },
      "source": [
        "%pylab inline"
      ],
      "execution_count": null,
      "outputs": [
        {
          "output_type": "stream",
          "text": [
            "Populating the interactive namespace from numpy and matplotlib\n"
          ],
          "name": "stdout"
        }
      ]
    },
    {
      "cell_type": "code",
      "metadata": {
        "id": "SGt_HKLbuvxN"
      },
      "source": [
        "digits = datasets.load_digits()"
      ],
      "execution_count": null,
      "outputs": []
    },
    {
      "cell_type": "code",
      "metadata": {
        "id": "CfSHVkcAvIpU"
      },
      "source": [
        "X = digits.data"
      ],
      "execution_count": null,
      "outputs": []
    },
    {
      "cell_type": "code",
      "metadata": {
        "id": "tTvBpUxByBky"
      },
      "source": [
        "y = digits.target"
      ],
      "execution_count": null,
      "outputs": []
    },
    {
      "cell_type": "markdown",
      "metadata": {
        "id": "jRGuwCCFOwNJ"
      },
      "source": [
        "1.\n",
        "\n",
        "Создайте DecisionTreeClassifier с настройками по умолчанию и измерьте качество его работы с помощью cross_val_score. Эта величина и будет ответом в пункте 1."
      ]
    },
    {
      "cell_type": "code",
      "metadata": {
        "colab": {
          "base_uri": "https://localhost:8080/"
        },
        "id": "BIjxG_TL0aNX",
        "outputId": "7b835c05-d0ca-4f74-aa2e-1da2b33e9e75"
      },
      "source": [
        "clf = DecisionTreeClassifier()\n",
        "scores = model_selection.cross_val_score(clf, X, y, cv=10)\n",
        "scores.mean()"
      ],
      "execution_count": null,
      "outputs": [
        {
          "output_type": "execute_result",
          "data": {
            "text/plain": [
              "0.8352700186219739"
            ]
          },
          "metadata": {
            "tags": []
          },
          "execution_count": 7
        }
      ]
    },
    {
      "cell_type": "markdown",
      "metadata": {
        "id": "yWihxj1AQlA_"
      },
      "source": [
        "2.\n",
        "\n",
        "Воспользуйтесь BaggingClassifier из sklearn.ensemble, чтобы обучить бэггинг над DecisionTreeClassifier. Используйте в BaggingClassifier параметры по умолчанию, задав только количество деревьев равным 100. \n",
        "\n",
        "Качество классификации новой модели - ответ в пункте 2. Обратите внимание, как соотносится качество работы композиции решающих деревьев с качеством работы одного решающего дерева."
      ]
    },
    {
      "cell_type": "code",
      "metadata": {
        "colab": {
          "base_uri": "https://localhost:8080/"
        },
        "id": "F5WqZ3yxQt6f",
        "outputId": "bb8e8786-1f76-40f7-eb09-8a334f36a11a"
      },
      "source": [
        "clf = BaggingClassifier(n_estimators = 100)\n",
        "scores = model_selection.cross_val_score(clf, X, y, cv=10)\n",
        "scores.mean()"
      ],
      "execution_count": null,
      "outputs": [
        {
          "output_type": "execute_result",
          "data": {
            "text/plain": [
              "0.9265021725636251"
            ]
          },
          "metadata": {
            "tags": []
          },
          "execution_count": 8
        }
      ]
    },
    {
      "cell_type": "markdown",
      "metadata": {
        "id": "pPQG2cyvRrg7"
      },
      "source": [
        "3.\n",
        "\n",
        "Теперь изучите параметры BaggingClassifier и выберите их такими, чтобы каждый базовый алгоритм обучался не на всех d признаках, а на \\sqrt{d} \n",
        "d\n",
        "​\t\n",
        "  случайных признаков. Качество работы получившегося классификатора - ответ в пункте 3. Корень из числа признаков - часто используемая эвристика в задачах классификации, в задачах регрессии же часто берут число признаков, деленное на три. Но в общем случае ничто не мешает вам выбирать любое другое число случайных признаков."
      ]
    },
    {
      "cell_type": "code",
      "metadata": {
        "id": "Km11XpD_RtGy"
      },
      "source": [
        "number_of_features = int(X.shape[1] ** 0.5)"
      ],
      "execution_count": null,
      "outputs": []
    },
    {
      "cell_type": "code",
      "metadata": {
        "colab": {
          "base_uri": "https://localhost:8080/"
        },
        "id": "AIkTXZJIR-bl",
        "outputId": "2cfc8a4e-855c-46df-c543-79435fd0903e"
      },
      "source": [
        "clf = BaggingClassifier(n_estimators = 100, max_features = number_of_features)\n",
        "scores = model_selection.cross_val_score(clf, X, y, cv = 10)\n",
        "scores.mean()"
      ],
      "execution_count": null,
      "outputs": [
        {
          "output_type": "execute_result",
          "data": {
            "text/plain": [
              "0.9271073867163251"
            ]
          },
          "metadata": {
            "tags": []
          },
          "execution_count": 10
        }
      ]
    },
    {
      "cell_type": "markdown",
      "metadata": {
        "id": "WVX_qB70ShqE"
      },
      "source": [
        "4.\n",
        "\n",
        "Наконец, давайте попробуем выбирать случайные признаки не один раз на все дерево, а при построении каждой вершины дерева. Сделать это несложно: нужно убрать выбор случайного подмножества признаков в BaggingClassifier и добавить его в DecisionTreeClassifier. Какой параметр за это отвечает, можно понять из документации sklearn, либо просто попробовать угадать (скорее всего, у вас сразу получится). Попробуйте выбирать опять же \\sqrt{d} \n",
        "d\n",
        "​\t\n",
        "  признаков. Качество полученного классификатора на контрольной выборке и будет ответом в пункте 4."
      ]
    },
    {
      "cell_type": "code",
      "metadata": {
        "colab": {
          "base_uri": "https://localhost:8080/"
        },
        "id": "DmI0kr7qSmmA",
        "outputId": "95adc678-6fbb-41bc-f214-5cda5b7e1516"
      },
      "source": [
        "clf = BaggingClassifier(DecisionTreeClassifier(max_features = number_of_features), n_estimators = 100)\n",
        "scores = model_selection.cross_val_score(clf, X, y, cv = 10)\n",
        "scores.mean()"
      ],
      "execution_count": null,
      "outputs": [
        {
          "output_type": "execute_result",
          "data": {
            "text/plain": [
              "0.9493544382371197"
            ]
          },
          "metadata": {
            "tags": []
          },
          "execution_count": 11
        }
      ]
    },
    {
      "cell_type": "markdown",
      "metadata": {
        "id": "iFEas2v8S9Yg"
      },
      "source": [
        "5.\n",
        "\n",
        "Полученный в пункте 4 классификатор - бэггинг на рандомизированных деревьях (в которых при построении каждой вершины выбирается случайное подмножество признаков и разбиение ищется только по ним). Это в точности соответствует алгоритму Random Forest, поэтому почему бы не сравнить качество работы классификатора с RandomForestClassifier из sklearn.ensemble. Сделайте это, а затем изучите, как качество классификации на данном датасете зависит от количества деревьев, количества признаков, выбираемых при построении каждой вершины дерева, а также ограничений на глубину дерева. Для наглядности лучше построить графики зависимости качества от значений параметров, но для сдачи задания это делать не обязательно. \n",
        "\n",
        "На основе наблюдений выпишите через пробел номера правильных утверждений из приведенных ниже в порядке возрастания номера (это будет ответ в п.5)\n",
        "\n",
        "1) Случайный лес сильно переобучается с ростом количества деревьев\n",
        "\n",
        "2) При очень маленьком числе деревьев (5, 10, 15), случайный лес работает хуже, чем при большем числе деревьев\n",
        "\n",
        "3) С ростом количества деревьев в случайном лесе, в какой-то момент деревьев становится достаточно для высокого качества классификации, а затем качество существенно не меняется.\n",
        "\n",
        "4) При большом количестве признаков (для данного датасета - 40, 50) качество классификации становится хуже, чем при малом количестве признаков (5, 10). Это связано с тем, что чем меньше признаков выбирается в каждом узле, тем более различными получаются деревья (ведь деревья сильно неустойчивы к изменениям в обучающей выборке), и тем лучше работает их композиция.\n",
        "\n",
        "5) При большом количестве признаков (40, 50, 60) качество классификации лучше, чем при малом количестве признаков (5, 10). Это связано с тем, что чем больше признаков - тем больше информации об объектах, а значит алгоритм может делать прогнозы более точно.\n",
        "\n",
        "6) При небольшой максимальной глубине деревьев (5-6) качество работы случайного леса намного лучше, чем без ограничения глубины, т.к. деревья получаются не переобученными. С ростом глубины деревьев качество ухудшается.\n",
        "\n",
        "7) При небольшой максимальной глубине деревьев (5-6) качество работы случайного леса заметно хуже, чем без ограничений, т.к. деревья получаются недообученными. С ростом глубины качество сначала улучшается, а затем не меняется существенно, т.к. из-за усреднения прогнозов и различий деревьев их переобученность в бэггинге не сказывается на итоговом качестве (все деревья преобучены по-разному, и при усреднении они компенсируют переобученность друг-друга)."
      ]
    },
    {
      "cell_type": "code",
      "metadata": {
        "colab": {
          "base_uri": "https://localhost:8080/"
        },
        "id": "if2w30uXTOMI",
        "outputId": "28abf37c-3571-416c-bf98-e1ed83104ba1"
      },
      "source": [
        "clf = RandomForestClassifier(max_features = number_of_features)\n",
        "scores = model_selection.cross_val_score(clf, X, y, cv = 10)\n",
        "scores.mean()"
      ],
      "execution_count": null,
      "outputs": [
        {
          "output_type": "execute_result",
          "data": {
            "text/plain": [
              "0.9482402234636871"
            ]
          },
          "metadata": {
            "tags": []
          },
          "execution_count": 12
        }
      ]
    },
    {
      "cell_type": "markdown",
      "metadata": {
        "id": "qry48JaEfZqK"
      },
      "source": [
        "Зависимость качества классификации от количества деревьев"
      ]
    },
    {
      "cell_type": "code",
      "metadata": {
        "colab": {
          "background_save": true
        },
        "id": "UXjJuJjQfZN2"
      },
      "source": [
        "number_of_estimators = np.arange(5, 200, 5)\n",
        "scores_estimators = []\n",
        "for n in number_of_estimators:\n",
        "    clf = RandomForestClassifier(n_estimators = n, max_features = number_of_features)\n",
        "    scores_estimators.append(model_selection.cross_val_score(clf, X, y, cv = 10).mean())"
      ],
      "execution_count": null,
      "outputs": []
    },
    {
      "cell_type": "code",
      "metadata": {
        "id": "HpZhBrogimvd"
      },
      "source": [
        "from matplotlib import pyplot as plt"
      ],
      "execution_count": null,
      "outputs": []
    },
    {
      "cell_type": "code",
      "metadata": {
        "colab": {
          "base_uri": "https://localhost:8080/",
          "height": 312
        },
        "id": "daocKsu8hiAY",
        "outputId": "5bfb2ec5-06ac-43bf-b0df-db9de7b5b884"
      },
      "source": [
        "plt.plot(number_of_estimators, scores_estimators)\n",
        "plt.xlabel('Количесвто деревьев')\n",
        "plt.ylabel('Точность')\n",
        "plt.title('Зависимость качества от количества деревьев')"
      ],
      "execution_count": null,
      "outputs": [
        {
          "output_type": "execute_result",
          "data": {
            "text/plain": [
              "Text(0.5, 1.0, 'Зависимость качества от количества деревьев')"
            ]
          },
          "metadata": {
            "tags": []
          },
          "execution_count": 47
        },
        {
          "output_type": "display_data",
          "data": {
            "image/png": "[encoded data removed]",
            "text/plain": [
              "<Figure size 432x288 with 1 Axes>"
            ]
          },
          "metadata": {
            "tags": []
          }
        }
      ]
    },
    {
      "cell_type": "markdown",
      "metadata": {
        "id": "Mec2CyLalbIJ"
      },
      "source": [
        "Зависимость качества классификации от количества признаков"
      ]
    },
    {
      "cell_type": "code",
      "metadata": {
        "id": "nw4U9XD3l0Yb"
      },
      "source": [
        "number_of_features_list = np.arange(5, X.shape[1], 5)\n",
        "scores_features = []\n",
        "for n in number_of_features_list:\n",
        "    clf = RandomForestClassifier(n_estimators = 100, max_features = n)\n",
        "    scores_features.append(model_selection.cross_val_score(clf, X, y, cv = 10).mean())"
      ],
      "execution_count": null,
      "outputs": []
    },
    {
      "cell_type": "code",
      "metadata": {
        "colab": {
          "base_uri": "https://localhost:8080/",
          "height": 312
        },
        "id": "LQwylEuOmn1r",
        "outputId": "de4921ce-7f91-428d-d0f1-8585bf91ef41"
      },
      "source": [
        "plt.plot(number_of_features_list, scores_features)\n",
        "plt.xlabel('Количесвто признаков')\n",
        "plt.ylabel('Точность')\n",
        "plt.title('Зависимость качества от количества признаков')"
      ],
      "execution_count": null,
      "outputs": [
        {
          "output_type": "execute_result",
          "data": {
            "text/plain": [
              "Text(0.5, 1.0, 'Зависимость качества от количества признаков')"
            ]
          },
          "metadata": {
            "tags": []
          },
          "execution_count": 50
        },
        {
          "output_type": "display_data",
          "data": {
            "image/png": "[encoded data removed]",
            "text/plain": [
              "<Figure size 432x288 with 1 Axes>"
            ]
          },
          "metadata": {
            "tags": []
          }
        }
      ]
    },
    {
      "cell_type": "markdown",
      "metadata": {
        "id": "LPOOVSsLnVeU"
      },
      "source": [
        "Зависимость качества классификации от глубины дерева"
      ]
    },
    {
      "cell_type": "code",
      "metadata": {
        "id": "ixrTszWJngC5"
      },
      "source": [
        "depths = np.arange(1, 50, 1)\n",
        "scores_depth = []\n",
        "for n in depths:\n",
        "    clf = RandomForestClassifier(n_estimators = 100, max_features = number_of_features, max_depth = n)\n",
        "    scores_depth.append(model_selection.cross_val_score(clf, X, y, cv = 10).mean())"
      ],
      "execution_count": null,
      "outputs": []
    },
    {
      "cell_type": "code",
      "metadata": {
        "colab": {
          "base_uri": "https://localhost:8080/",
          "height": 312
        },
        "id": "htdK8E02nrtL",
        "outputId": "dff05071-f715-4a19-c48b-1571b87ee561"
      },
      "source": [
        "plt.plot(depths, scores_depth)\n",
        "plt.xlabel('Глубина дерева')\n",
        "plt.ylabel('Точность')\n",
        "plt.title('Зависимость качества от глубины дерева')"
      ],
      "execution_count": null,
      "outputs": [
        {
          "output_type": "execute_result",
          "data": {
            "text/plain": [
              "Text(0.5, 1.0, 'Зависимость качества от глубины дерева')"
            ]
          },
          "metadata": {
            "tags": []
          },
          "execution_count": 52
        },
        {
          "output_type": "display_data",
          "data": {
            "image/png": "[encoded data removed]",
            "text/plain": [
              "<Figure size 432x288 with 1 Axes>"
            ]
          },
          "metadata": {
            "tags": []
          }
        }
      ]
    },
    {
      "cell_type": "markdown",
      "metadata": {
        "id": "7JBEv8Kvqaxw"
      },
      "source": [
        "Верные утверждения: 2, 3, 4, 7."
      ]
    }
  ]
}