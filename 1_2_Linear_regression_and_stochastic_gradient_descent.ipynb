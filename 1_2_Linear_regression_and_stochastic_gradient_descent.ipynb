{
  "nbformat": 4,
  "nbformat_minor": 0,
  "metadata": {
    "kernelspec": {
      "display_name": "Python 3",
      "language": "python",
      "name": "python3"
    },
    "language_info": {
      "codemirror_mode": {
        "name": "ipython",
        "version": 3
      },
      "file_extension": ".py",
      "mimetype": "text/x-python",
      "name": "python",
      "nbconvert_exporter": "python",
      "pygments_lexer": "ipython3",
      "version": "3.6.7"
    },
    "colab": {
      "name": "Неделя 1_2 Линейная регрессия и стохастический градиентный спуск.ipynb",
      "provenance": [],
      "collapsed_sections": []
    }
  },
  "cells": [
    {
      "cell_type": "markdown",
      "metadata": {
        "id": "g6-rASOWlLH7"
      },
      "source": [
        "**Корректность проверена на Python 3.6:**\n",
        "+ numpy 1.15.4\n",
        "+ pandas 0.23.4"
      ]
    },
    {
      "cell_type": "markdown",
      "metadata": {
        "id": "PWfOaQomlLII"
      },
      "source": [
        "# Линейная регрессия и стохастический градиентный спуск"
      ]
    },
    {
      "cell_type": "markdown",
      "metadata": {
        "id": "G0JSDm7elLIJ"
      },
      "source": [
        "Задание основано на материалах лекций по линейной регрессии и градиентному спуску. Вы будете прогнозировать выручку компании в зависимости от уровня ее инвестиций в рекламу по TV, в газетах и по радио."
      ]
    },
    {
      "cell_type": "markdown",
      "metadata": {
        "id": "Gn2jOhZ8lLIK"
      },
      "source": [
        "## Вы научитесь:\n",
        "- решать задачу восстановления линейной регрессии\n",
        "- реализовывать стохастический градиентный спуск для ее настройки\n",
        "- решать задачу линейной регрессии аналитически"
      ]
    },
    {
      "cell_type": "markdown",
      "metadata": {
        "id": "fJI4aGTElLIK"
      },
      "source": [
        "## Введение\n",
        "Линейная регрессия - один из наиболее хорошо изученных методов машинного обучения, позволяющий прогнозировать значения количественного признака в виде линейной комбинации прочих признаков с параметрами - весами модели. Оптимальные (в смысле минимальности некоторого функционала ошибки) параметры линейной регрессии можно найти аналитически с помощью нормального уравнения или численно с помощью методов оптимизации.  "
      ]
    },
    {
      "cell_type": "markdown",
      "metadata": {
        "id": "j0_eo0QLlLIL"
      },
      "source": [
        "Линейная регрессия использует простой функционал качества - среднеквадратичную ошибку. Мы будем работать с выборкой, содержащей 3 признака. Для настройки параметров (весов) модели решается следующая задача:\n",
        "$$\\Large \\frac{1}{\\ell}\\sum_{i=1}^\\ell{{((w_0 + w_1x_{i1} + w_2x_{i2} +  w_3x_{i3}) - y_i)}^2} \\rightarrow \\min_{w_0, w_1, w_2, w_3},$$\n",
        "где $x_{i1}, x_{i2}, x_{i3}$ - значения признаков $i$-го объекта, $y_i$ - значение целевого признака $i$-го объекта, $\\ell$ - число объектов в обучающей выборке."
      ]
    },
    {
      "cell_type": "markdown",
      "metadata": {
        "id": "AhqCkZZmlLIM"
      },
      "source": [
        "## Градиентный спуск\n",
        "Параметры $w_0, w_1, w_2, w_3$, по которым минимизируется среднеквадратичная ошибка, можно находить численно с помощью градиентного спуска.\n",
        "Градиентный шаг для весов будет выглядеть следующим образом:\n",
        "$$\\Large w_0 \\leftarrow w_0 - \\frac{2\\eta}{\\ell} \\sum_{i=1}^\\ell{{((w_0 + w_1x_{i1} + w_2x_{i2} +  w_3x_{i3}) - y_i)}}$$\n",
        "$$\\Large w_j \\leftarrow w_j - \\frac{2\\eta}{\\ell} \\sum_{i=1}^\\ell{{x_{ij}((w_0 + w_1x_{i1} + w_2x_{i2} +  w_3x_{i3}) - y_i)}},\\ j \\in \\{1,2,3\\}$$\n",
        "Здесь $\\eta$ - параметр, шаг градиентного спуска."
      ]
    },
    {
      "cell_type": "markdown",
      "metadata": {
        "id": "qnwKT1v0lLIM"
      },
      "source": [
        "## Стохастический градиентный спуск\n",
        "Проблема градиентного спуска, описанного выше, в том, что на больших выборках считать на каждом шаге градиент по всем имеющимся данным может быть очень вычислительно сложно. \n",
        "В стохастическом варианте градиентного спуска поправки для весов вычисляются только с учетом одного случайно взятого объекта обучающей выборки:\n",
        "$$\\Large w_0 \\leftarrow w_0 - \\frac{2\\eta}{\\ell} {((w_0 + w_1x_{k1} + w_2x_{k2} +  w_3x_{k3}) - y_k)}$$\n",
        "$$\\Large w_j \\leftarrow w_j - \\frac{2\\eta}{\\ell} {x_{kj}((w_0 + w_1x_{k1} + w_2x_{k2} +  w_3x_{k3}) - y_k)},\\ j \\in \\{1,2,3\\},$$\n",
        "где $k$ - случайный индекс, $k \\in \\{1, \\ldots, \\ell\\}$."
      ]
    },
    {
      "cell_type": "markdown",
      "metadata": {
        "id": "UVAU_L90lLIN"
      },
      "source": [
        "## Нормальное уравнение \n",
        "Нахождение вектора оптимальных весов $w$ может быть сделано и аналитически.\n",
        "Мы хотим найти такой вектор весов $w$, чтобы вектор $y$, приближающий целевой признак, получался умножением матрицы $X$ (состоящей из всех признаков объектов обучающей выборки, кроме целевого) на вектор весов $w$. То есть, чтобы выполнялось матричное уравнение:\n",
        "$$\\Large y = Xw$$\n",
        "Домножением слева на $X^T$ получаем:\n",
        "$$\\Large X^Ty = X^TXw$$\n",
        "Это хорошо, поскольку теперь матрица $X^TX$ - квадратная, и можно найти решение (вектор $w$) в виде:\n",
        "$$\\Large w = {(X^TX)}^{-1}X^Ty$$\n",
        "Матрица ${(X^TX)}^{-1}X^T$ - [*псевдообратная*](https://ru.wikipedia.org/wiki/Псевдообратная_матрица) для матрицы $X$. В NumPy такую матрицу можно вычислить с помощью функции [numpy.linalg.pinv](http://docs.scipy.org/doc/numpy-1.10.0/reference/generated/numpy.linalg.pinv.html).\n",
        "\n",
        "Однако, нахождение псевдообратной матрицы - операция вычислительно сложная и нестабильная в случае малого определителя матрицы $X$ (проблема мультиколлинеарности). \n",
        "На практике лучше находить вектор весов $w$ решением матричного уравнения \n",
        "$$\\Large X^TXw = X^Ty$$Это может быть сделано с помощью функции [numpy.linalg.solve](http://docs.scipy.org/doc/numpy-1.10.1/reference/generated/numpy.linalg.solve.html).\n",
        "\n",
        "Но все же на практике для больших матриц $X$ быстрее работает градиентный спуск, особенно его стохастическая версия."
      ]
    },
    {
      "cell_type": "markdown",
      "metadata": {
        "id": "n-rWlJXTlLIO"
      },
      "source": [
        "## Инструкции по выполнению"
      ]
    },
    {
      "cell_type": "markdown",
      "metadata": {
        "id": "8nMk0Ej6lLIO"
      },
      "source": [
        "**1. Загрузите данные из файла *advertising.csv* в объект pandas DataFrame. [Источник данных](http://www-bcf.usc.edu/~gareth/ISL/data.html).**"
      ]
    },
    {
      "cell_type": "code",
      "metadata": {
        "colab": {
          "base_uri": "https://localhost:8080/"
        },
        "id": "pKjUQKBQlSb8",
        "outputId": "d5629c34-e198-47a2-e5f3-2ef018763854"
      },
      "source": [
        "from google.colab import drive\n",
        "drive.mount('/content/drive')"
      ],
      "execution_count": null,
      "outputs": [
        {
          "output_type": "stream",
          "text": [
            "Drive already mounted at /content/drive; to attempt to forcibly remount, call drive.mount(\"/content/drive\", force_remount=True).\n"
          ],
          "name": "stdout"
        }
      ]
    },
    {
      "cell_type": "code",
      "metadata": {
        "id": "FYJMNdhjlrjN"
      },
      "source": [
        "!ls \"/content/drive/My Drive\""
      ],
      "execution_count": null,
      "outputs": []
    },
    {
      "cell_type": "code",
      "metadata": {
        "id": "JQKqZoSllLIP"
      },
      "source": [
        "import pandas as pd\n",
        "adver_data = pd.read_csv('/content/drive/My Drive/advertising.csv')"
      ],
      "execution_count": null,
      "outputs": []
    },
    {
      "cell_type": "markdown",
      "metadata": {
        "collapsed": true,
        "id": "rBZrDOLplLIQ"
      },
      "source": [
        "**Посмотрите на первые 5 записей и на статистику признаков в этом наборе данных.**"
      ]
    },
    {
      "cell_type": "code",
      "metadata": {
        "colab": {
          "base_uri": "https://localhost:8080/",
          "height": 197
        },
        "id": "6TWFfg-NlLIR",
        "outputId": "433f930a-9d4b-4817-ce81-7f455cd188f0"
      },
      "source": [
        "adver_data.head()"
      ],
      "execution_count": null,
      "outputs": [
        {
          "output_type": "execute_result",
          "data": {
            "text/html": [
              "<div>\n",
              "<style scoped>\n",
              "    .dataframe tbody tr th:only-of-type {\n",
              "        vertical-align: middle;\n",
              "    }\n",
              "\n",
              "    .dataframe tbody tr th {\n",
              "        vertical-align: top;\n",
              "    }\n",
              "\n",
              "    .dataframe thead th {\n",
              "        text-align: right;\n",
              "    }\n",
              "</style>\n",
              "<table border=\"1\" class=\"dataframe\">\n",
              "  <thead>\n",
              "    <tr style=\"text-align: right;\">\n",
              "      <th></th>\n",
              "      <th>TV</th>\n",
              "      <th>Radio</th>\n",
              "      <th>Newspaper</th>\n",
              "      <th>Sales</th>\n",
              "    </tr>\n",
              "  </thead>\n",
              "  <tbody>\n",
              "    <tr>\n",
              "      <th>1</th>\n",
              "      <td>230.1</td>\n",
              "      <td>37.8</td>\n",
              "      <td>69.2</td>\n",
              "      <td>22.1</td>\n",
              "    </tr>\n",
              "    <tr>\n",
              "      <th>2</th>\n",
              "      <td>44.5</td>\n",
              "      <td>39.3</td>\n",
              "      <td>45.1</td>\n",
              "      <td>10.4</td>\n",
              "    </tr>\n",
              "    <tr>\n",
              "      <th>3</th>\n",
              "      <td>17.2</td>\n",
              "      <td>45.9</td>\n",
              "      <td>69.3</td>\n",
              "      <td>9.3</td>\n",
              "    </tr>\n",
              "    <tr>\n",
              "      <th>4</th>\n",
              "      <td>151.5</td>\n",
              "      <td>41.3</td>\n",
              "      <td>58.5</td>\n",
              "      <td>18.5</td>\n",
              "    </tr>\n",
              "    <tr>\n",
              "      <th>5</th>\n",
              "      <td>180.8</td>\n",
              "      <td>10.8</td>\n",
              "      <td>58.4</td>\n",
              "      <td>12.9</td>\n",
              "    </tr>\n",
              "  </tbody>\n",
              "</table>\n",
              "</div>"
            ],
            "text/plain": [
              "      TV  Radio  Newspaper  Sales\n",
              "1  230.1   37.8       69.2   22.1\n",
              "2   44.5   39.3       45.1   10.4\n",
              "3   17.2   45.9       69.3    9.3\n",
              "4  151.5   41.3       58.5   18.5\n",
              "5  180.8   10.8       58.4   12.9"
            ]
          },
          "metadata": {
            "tags": []
          },
          "execution_count": 21
        }
      ]
    },
    {
      "cell_type": "code",
      "metadata": {
        "colab": {
          "base_uri": "https://localhost:8080/",
          "height": 286
        },
        "id": "sJudbkHHlLIR",
        "outputId": "5c135e08-48fb-48d3-f45a-718d6724a881"
      },
      "source": [
        "adver_data.describe()"
      ],
      "execution_count": null,
      "outputs": [
        {
          "output_type": "execute_result",
          "data": {
            "text/html": [
              "<div>\n",
              "<style scoped>\n",
              "    .dataframe tbody tr th:only-of-type {\n",
              "        vertical-align: middle;\n",
              "    }\n",
              "\n",
              "    .dataframe tbody tr th {\n",
              "        vertical-align: top;\n",
              "    }\n",
              "\n",
              "    .dataframe thead th {\n",
              "        text-align: right;\n",
              "    }\n",
              "</style>\n",
              "<table border=\"1\" class=\"dataframe\">\n",
              "  <thead>\n",
              "    <tr style=\"text-align: right;\">\n",
              "      <th></th>\n",
              "      <th>TV</th>\n",
              "      <th>Radio</th>\n",
              "      <th>Newspaper</th>\n",
              "      <th>Sales</th>\n",
              "    </tr>\n",
              "  </thead>\n",
              "  <tbody>\n",
              "    <tr>\n",
              "      <th>count</th>\n",
              "      <td>200.000000</td>\n",
              "      <td>200.000000</td>\n",
              "      <td>200.000000</td>\n",
              "      <td>200.000000</td>\n",
              "    </tr>\n",
              "    <tr>\n",
              "      <th>mean</th>\n",
              "      <td>147.042500</td>\n",
              "      <td>23.264000</td>\n",
              "      <td>30.554000</td>\n",
              "      <td>14.022500</td>\n",
              "    </tr>\n",
              "    <tr>\n",
              "      <th>std</th>\n",
              "      <td>85.854236</td>\n",
              "      <td>14.846809</td>\n",
              "      <td>21.778621</td>\n",
              "      <td>5.217457</td>\n",
              "    </tr>\n",
              "    <tr>\n",
              "      <th>min</th>\n",
              "      <td>0.700000</td>\n",
              "      <td>0.000000</td>\n",
              "      <td>0.300000</td>\n",
              "      <td>1.600000</td>\n",
              "    </tr>\n",
              "    <tr>\n",
              "      <th>25%</th>\n",
              "      <td>74.375000</td>\n",
              "      <td>9.975000</td>\n",
              "      <td>12.750000</td>\n",
              "      <td>10.375000</td>\n",
              "    </tr>\n",
              "    <tr>\n",
              "      <th>50%</th>\n",
              "      <td>149.750000</td>\n",
              "      <td>22.900000</td>\n",
              "      <td>25.750000</td>\n",
              "      <td>12.900000</td>\n",
              "    </tr>\n",
              "    <tr>\n",
              "      <th>75%</th>\n",
              "      <td>218.825000</td>\n",
              "      <td>36.525000</td>\n",
              "      <td>45.100000</td>\n",
              "      <td>17.400000</td>\n",
              "    </tr>\n",
              "    <tr>\n",
              "      <th>max</th>\n",
              "      <td>296.400000</td>\n",
              "      <td>49.600000</td>\n",
              "      <td>114.000000</td>\n",
              "      <td>27.000000</td>\n",
              "    </tr>\n",
              "  </tbody>\n",
              "</table>\n",
              "</div>"
            ],
            "text/plain": [
              "               TV       Radio   Newspaper       Sales\n",
              "count  200.000000  200.000000  200.000000  200.000000\n",
              "mean   147.042500   23.264000   30.554000   14.022500\n",
              "std     85.854236   14.846809   21.778621    5.217457\n",
              "min      0.700000    0.000000    0.300000    1.600000\n",
              "25%     74.375000    9.975000   12.750000   10.375000\n",
              "50%    149.750000   22.900000   25.750000   12.900000\n",
              "75%    218.825000   36.525000   45.100000   17.400000\n",
              "max    296.400000   49.600000  114.000000   27.000000"
            ]
          },
          "metadata": {
            "tags": []
          },
          "execution_count": 22
        }
      ]
    },
    {
      "cell_type": "markdown",
      "metadata": {
        "id": "rQzAHl7HlLIS"
      },
      "source": [
        "**Создайте массивы NumPy *X* из столбцов TV, Radio и Newspaper и *y* - из столбца Sales. Используйте атрибут *values* объекта pandas DataFrame.**"
      ]
    },
    {
      "cell_type": "code",
      "metadata": {
        "id": "ilQr5sOFlLIS"
      },
      "source": [
        "import numpy as np\n",
        "X = np.array(adver_data[[\"TV\", \"Radio\", \"Newspaper\"]].values)\n",
        "y = np.array(adver_data[\"Sales\"].values)"
      ],
      "execution_count": null,
      "outputs": []
    },
    {
      "cell_type": "markdown",
      "metadata": {
        "id": "ZxkkAtPVlLIT"
      },
      "source": [
        "**Отмасштабируйте столбцы матрицы *X*, вычтя из каждого значения среднее по соответствующему столбцу и поделив результат на стандартное отклонение. Для определенности, используйте методы mean и std векторов NumPy (реализация std в Pandas может отличаться). Обратите внимание, что в numpy вызов функции .mean() без параметров возвращает среднее по всем элементам массива, а не по столбцам, как в pandas. Чтобы произвести вычисление по столбцам, необходимо указать параметр axis.**"
      ]
    },
    {
      "cell_type": "code",
      "metadata": {
        "id": "5jE7PvqvlLIT",
        "colab": {
          "base_uri": "https://localhost:8080/"
        },
        "outputId": "e63ac4db-d04a-4024-f0b4-d672e08f880a"
      },
      "source": [
        "means, stds = np.mean(X,axis=0), np.std(X, axis=0)\n",
        "print(means)\n",
        "print(stds)"
      ],
      "execution_count": null,
      "outputs": [
        {
          "output_type": "stream",
          "text": [
            "[147.0425  23.264   30.554 ]\n",
            "[85.63933176 14.80964564 21.72410606]\n"
          ],
          "name": "stdout"
        }
      ]
    },
    {
      "cell_type": "code",
      "metadata": {
        "id": "qrZR_HsBlLIT"
      },
      "source": [
        "X = (X - means)/stds\n",
        "X"
      ],
      "execution_count": null,
      "outputs": []
    },
    {
      "cell_type": "markdown",
      "metadata": {
        "id": "Wint4ynDlLIT"
      },
      "source": [
        "**Добавьте к матрице *X* столбец из единиц, используя методы *hstack*, *ones* и *reshape* библиотеки NumPy. Вектор из единиц нужен для того, чтобы не обрабатывать отдельно коэффициент $w_0$ линейной регрессии.**"
      ]
    },
    {
      "cell_type": "code",
      "metadata": {
        "id": "ilzjugI2rE4V"
      },
      "source": [
        "b = np.ones(X.shape[0])\n",
        "d = b.reshape((X.shape[0], 1))\n",
        "X = np.hstack((d, X))\n",
        "X"
      ],
      "execution_count": null,
      "outputs": []
    },
    {
      "cell_type": "markdown",
      "metadata": {
        "id": "j48bjwENlLIU"
      },
      "source": [
        "**2. Реализуйте функцию *mserror* - среднеквадратичную ошибку прогноза. Она принимает два аргумента - объекты Series *y* (значения целевого признака) и *y\\_pred* (предсказанные значения). Не используйте в этой функции циклы - тогда она будет вычислительно неэффективной.**"
      ]
    },
    {
      "cell_type": "code",
      "metadata": {
        "id": "RH6jPFpJlLIU"
      },
      "source": [
        "def mserror(y, y_pred):\n",
        "    return np.mean((y - y_pred)**2)"
      ],
      "execution_count": null,
      "outputs": []
    },
    {
      "cell_type": "markdown",
      "metadata": {
        "id": "ovWrxe_olLIU"
      },
      "source": [
        "**Какова среднеквадратичная ошибка прогноза значений Sales, если всегда предсказывать медианное значение Sales по исходной выборке? Полученный результат, округленный до 3 знаков после запятой, является ответом на *'1 задание'.***"
      ]
    },
    {
      "cell_type": "code",
      "metadata": {
        "colab": {
          "base_uri": "https://localhost:8080/"
        },
        "id": "XKobWbSslLIV",
        "outputId": "b392f6de-4eb9-4709-a220-cd1ea0add184"
      },
      "source": [
        "answer1 = mserror(y,np.median(y))\n",
        "print(round(answer1, 3))"
      ],
      "execution_count": null,
      "outputs": [
        {
          "output_type": "stream",
          "text": [
            "28.346\n"
          ],
          "name": "stdout"
        }
      ]
    },
    {
      "cell_type": "markdown",
      "metadata": {
        "id": "xs4h2kvllLIV"
      },
      "source": [
        "**3. Реализуйте функцию *normal_equation*, которая по заданным матрицам (массивам NumPy) *X* и *y* вычисляет вектор весов $w$ согласно нормальному уравнению линейной регрессии.**"
      ]
    },
    {
      "cell_type": "code",
      "metadata": {
        "id": "OCAW8DOARfft"
      },
      "source": [
        "y = y.reshape(200,1)"
      ],
      "execution_count": null,
      "outputs": []
    },
    {
      "cell_type": "code",
      "metadata": {
        "id": "SEZ2Qjq9lLIV"
      },
      "source": [
        "def normal_equation(X, y):\n",
        "  return np.dot(np.linalg.pinv(X), y)"
      ],
      "execution_count": null,
      "outputs": []
    },
    {
      "cell_type": "code",
      "metadata": {
        "colab": {
          "base_uri": "https://localhost:8080/"
        },
        "id": "uIjWLuN6lLIV",
        "outputId": "3933f844-67f2-4c21-f03c-f01dcaa6ed25"
      },
      "source": [
        "norm_eq_weights = normal_equation(X, y)\n",
        "print(norm_eq_weights)"
      ],
      "execution_count": null,
      "outputs": [
        {
          "output_type": "stream",
          "text": [
            "[[14.0225    ]\n",
            " [ 3.91925365]\n",
            " [ 2.79206274]\n",
            " [-0.02253861]]\n"
          ],
          "name": "stdout"
        }
      ]
    },
    {
      "cell_type": "markdown",
      "metadata": {
        "id": "Ezl8KhpLlLIV"
      },
      "source": [
        "**Какие продажи предсказываются линейной моделью с весами, найденными с помощью нормального уравнения, в случае средних инвестиций в рекламу по ТВ, радио и в газетах? (то есть при нулевых значениях масштабированных признаков TV, Radio и Newspaper). Полученный результат, округленный до 3 знаков после запятой, является ответом на *'2 задание'*.**"
      ]
    },
    {
      "cell_type": "code",
      "metadata": {
        "id": "loWyb4OJlLIW",
        "colab": {
          "base_uri": "https://localhost:8080/"
        },
        "outputId": "71c6f9c6-9337-4e56-fb79-4a63dcb661ba"
      },
      "source": [
        "answer2 = np.dot(np.mean(X, axis=0), norm_eq_weights)[0]\n",
        "print(round(answer2, 3))"
      ],
      "execution_count": null,
      "outputs": [
        {
          "output_type": "stream",
          "text": [
            "14.022\n"
          ],
          "name": "stdout"
        }
      ]
    },
    {
      "cell_type": "markdown",
      "metadata": {
        "id": "9ISzYDaIlLIW"
      },
      "source": [
        "**4. Напишите функцию *linear_prediction*, которая принимает на вход матрицу *X* и вектор весов линейной модели *w*, а возвращает вектор прогнозов в виде линейной комбинации столбцов матрицы *X* с весами *w*.**"
      ]
    },
    {
      "cell_type": "code",
      "metadata": {
        "id": "nJzqRDCUlLIW"
      },
      "source": [
        "def linear_prediction(X, w):\n",
        "    return np.dot(X, w)"
      ],
      "execution_count": null,
      "outputs": []
    },
    {
      "cell_type": "markdown",
      "metadata": {
        "id": "wHyqifs4lLIW"
      },
      "source": [
        "**Какова среднеквадратичная ошибка прогноза значений Sales в виде линейной модели с весами, найденными с помощью нормального уравнения?\n",
        "Полученный результат, округленный до 3 знаков после запятой, является ответом на *'3 задание'***"
      ]
    },
    {
      "cell_type": "code",
      "metadata": {
        "id": "W6V1Ih6OlLIW",
        "colab": {
          "base_uri": "https://localhost:8080/"
        },
        "outputId": "8fc30802-89fc-4ad4-f9b4-e596919de139"
      },
      "source": [
        "answer3 = mserror(y, linear_prediction(X, norm_eq_weights))\n",
        "print(round(answer3, 3))"
      ],
      "execution_count": null,
      "outputs": [
        {
          "output_type": "stream",
          "text": [
            "2.784\n"
          ],
          "name": "stdout"
        }
      ]
    },
    {
      "cell_type": "markdown",
      "metadata": {
        "id": "qY9VqN-GlLIX"
      },
      "source": [
        "**5. Напишите функцию *stochastic_gradient_step*, реализующую шаг стохастического градиентного спуска для линейной регрессии. Функция должна принимать матрицу *X*, вектора *y* и *w*, число *train_ind* - индекс объекта обучающей выборки (строки матрицы *X*), по которому считается изменение весов, а также число *$\\eta$* (eta) - шаг градиентного спуска (по умолчанию *eta*=0.01). Результатом будет вектор обновленных весов. Наша реализация функции будет явно написана для данных с 3 признаками, но несложно модифицировать для любого числа признаков, можете это сделать.**"
      ]
    },
    {
      "cell_type": "code",
      "metadata": {
        "id": "kFOEM7cjlLIX"
      },
      "source": [
        "def stochastic_gradient_step(X, y, w, train_ind, eta=0.01):\n",
        "    return w + 2 * eta/X.shape[0] * X[train_ind] * (y[train_ind] - linear_prediction(X[train_ind], w))"
      ],
      "execution_count": null,
      "outputs": []
    },
    {
      "cell_type": "code",
      "metadata": {
        "colab": {
          "base_uri": "https://localhost:8080/"
        },
        "id": "ppKJh6PwuG4N",
        "outputId": "83fce403-212c-4843-9f5a-667aa4c977e8"
      },
      "source": [
        "print(stochastic_gradient_step(X, y, normal_equation(X, y), 0, eta=0.01))"
      ],
      "execution_count": null,
      "outputs": [
        {
          "output_type": "stream",
          "text": [
            "[[14.0226576  14.02265285 14.02265469 14.02278037]\n",
            " [ 3.91941126  3.91940651  3.91940835  3.91953402]\n",
            " [ 2.79222035  2.79221559  2.79221743  2.79234311]\n",
            " [-0.02238101 -0.02238576 -0.02238392 -0.02225824]]\n"
          ],
          "name": "stdout"
        }
      ]
    },
    {
      "cell_type": "markdown",
      "metadata": {
        "id": "RbgWylRHlLIX"
      },
      "source": [
        "**6. Напишите функцию *stochastic_gradient_descent*, реализующую стохастический градиентный спуск для линейной регрессии. Функция принимает на вход следующие аргументы:**\n",
        "- X - матрица, соответствующая обучающей выборке\n",
        "- y - вектор значений целевого признака\n",
        "- w_init - вектор начальных весов модели\n",
        "- eta - шаг градиентного спуска (по умолчанию 0.01)\n",
        "- max_iter - максимальное число итераций градиентного спуска (по умолчанию 10000)\n",
        "- min_weight_dist - максимальное евклидово расстояние между векторами весов на соседних итерациях градиентного спуска,\n",
        "при котором алгоритм прекращает работу (по умолчанию 1e-8)\n",
        "- seed - число, используемое для воспроизводимости сгенерированных псевдослучайных чисел (по умолчанию 42)\n",
        "- verbose - флаг печати информации (например, для отладки, по умолчанию False)\n",
        "\n",
        "**На каждой итерации в вектор (список) должно записываться текущее значение среднеквадратичной ошибки. Функция должна возвращать вектор весов $w$, а также вектор (список) ошибок.**"
      ]
    },
    {
      "cell_type": "code",
      "metadata": {
        "id": "yCW4_Vj2lLIX"
      },
      "source": [
        "def stochastic_gradient_descent(X, y, w_init, eta=1e-2, max_iter=1e4,\n",
        "                                min_weight_dist=1e-8, seed=42, verbose=False):\n",
        "    # Инициализируем расстояние между векторами весов на соседних\n",
        "    # итерациях большим числом. \n",
        "    weight_dist = np.inf\n",
        "    # Инициализируем вектор весов\n",
        "    w = w_init\n",
        "    # Сюда будем записывать ошибки на каждой итерации\n",
        "    errors = []\n",
        "    # Счетчик итераций\n",
        "    iter_num = 0\n",
        "    # Будем порождать псевдослучайные числа \n",
        "    # (номер объекта, который будет менять веса), а для воспроизводимости\n",
        "    # этой последовательности псевдослучайных чисел используем seed.\n",
        "    np.random.seed(seed)\n",
        "        \n",
        "    # Основной цикл\n",
        "    while weight_dist > min_weight_dist and iter_num < max_iter:\n",
        "        # порождаем псевдослучайный \n",
        "        # индекс объекта обучающей выборки\n",
        "        random_ind = np.random.randint(X.shape[0])\n",
        "        \n",
        "        # Ваш код здесь\n",
        "        old_w = w\n",
        "        w = stochastic_gradient_step(X, y, w, random_ind, eta=0.01)\n",
        "        weight_dist = np.linalg.norm(w - old_w)\n",
        "        errors.append(mserror(y,np.dot(X,w)))\n",
        "        iter_num += 1\n",
        "        \n",
        "    return w, errors"
      ],
      "execution_count": null,
      "outputs": []
    },
    {
      "cell_type": "markdown",
      "metadata": {
        "id": "Hu3YEr4-lLIY"
      },
      "source": [
        " **Запустите $10^5$ итераций стохастического градиентного спуска. Укажите вектор начальных весов *w_init*, состоящий из нулей. Оставьте параметры  *eta* и *seed* равными их значениям по умолчанию (*eta*=0.01, *seed*=42 - это важно для проверки ответов).**"
      ]
    },
    {
      "cell_type": "code",
      "metadata": {
        "id": "biBTwf6WlLIY",
        "colab": {
          "base_uri": "https://localhost:8080/"
        },
        "outputId": "93a7fb19-3bb2-4959-ba2f-9640fa42a9a1"
      },
      "source": [
        "%%time\n",
        "stoch_grad_desc_weights, stoch_errors_by_iter = stochastic_gradient_descent(X,y, [0,0,0,0], 0.01, 100000, 1e-8, 42, False)"
      ],
      "execution_count": null,
      "outputs": [
        {
          "output_type": "stream",
          "text": [
            "CPU times: user 16.9 s, sys: 397 ms, total: 17.3 s\n",
            "Wall time: 17.4 s\n"
          ],
          "name": "stdout"
        }
      ]
    },
    {
      "cell_type": "markdown",
      "metadata": {
        "id": "p6z4wxJklLIY"
      },
      "source": [
        "**Посмотрим, чему равна ошибка на первых 50 итерациях стохастического градиентного спуска. Видим, что ошибка не обязательно уменьшается на каждой итерации.**"
      ]
    },
    {
      "cell_type": "code",
      "metadata": {
        "id": "nQdyoplxlLIY",
        "colab": {
          "base_uri": "https://localhost:8080/",
          "height": 315
        },
        "outputId": "7f3c8a9c-96e9-4b83-fc9e-be01c7e034e7"
      },
      "source": [
        "%pylab inline\n",
        "plot(range(50), stoch_errors_by_iter[:50])\n",
        "xlabel('Iteration number')\n",
        "ylabel('MSE')"
      ],
      "execution_count": null,
      "outputs": [
        {
          "output_type": "stream",
          "text": [
            "Populating the interactive namespace from numpy and matplotlib\n"
          ],
          "name": "stdout"
        },
        {
          "output_type": "execute_result",
          "data": {
            "text/plain": [
              "Text(0, 0.5, 'MSE')"
            ]
          },
          "metadata": {
            "tags": []
          },
          "execution_count": 93
        },
        {
          "output_type": "display_data",
          "data": {
            "image/png": "[encoded data removed]",
            "text/plain": [
              "<Figure size 432x288 with 1 Axes>"
            ]
          },
          "metadata": {
            "tags": [],
            "needs_background": "light"
          }
        }
      ]
    },
    {
      "cell_type": "markdown",
      "metadata": {
        "id": "ZdGji7UQlLIZ"
      },
      "source": [
        "**Теперь посмотрим на зависимость ошибки от номера итерации для $10^5$ итераций стохастического градиентного спуска. Видим, что алгоритм сходится.**"
      ]
    },
    {
      "cell_type": "code",
      "metadata": {
        "id": "gXMl3wTElLIZ",
        "colab": {
          "base_uri": "https://localhost:8080/",
          "height": 313
        },
        "outputId": "7d8c6140-e902-4c38-8e3d-b4bb7799506e"
      },
      "source": [
        "%pylab inline\n",
        "plot(range(len(stoch_errors_by_iter)), stoch_errors_by_iter)\n",
        "xlabel('Iteration number')\n",
        "ylabel('MSE')"
      ],
      "execution_count": null,
      "outputs": [
        {
          "output_type": "stream",
          "text": [
            "Populating the interactive namespace from numpy and matplotlib\n"
          ],
          "name": "stdout"
        },
        {
          "output_type": "execute_result",
          "data": {
            "text/plain": [
              "Text(0, 0.5, 'MSE')"
            ]
          },
          "metadata": {
            "tags": []
          },
          "execution_count": 94
        },
        {
          "output_type": "display_data",
          "data": {
            "image/png": "[encoded data removed]",
            "text/plain": [
              "<Figure size 432x288 with 1 Axes>"
            ]
          },
          "metadata": {
            "tags": [],
            "needs_background": "light"
          }
        }
      ]
    },
    {
      "cell_type": "markdown",
      "metadata": {
        "id": "ayJnL-ymlLIZ"
      },
      "source": [
        "**Посмотрим на вектор весов, к которому сошелся метод.**"
      ]
    },
    {
      "cell_type": "code",
      "metadata": {
        "id": "tJUYVQdvlLIa",
        "colab": {
          "base_uri": "https://localhost:8080/"
        },
        "outputId": "b9df5108-603a-4b7a-91dc-32b1ca4c15ba"
      },
      "source": [
        "stoch_grad_desc_weights"
      ],
      "execution_count": null,
      "outputs": [
        {
          "output_type": "execute_result",
          "data": {
            "text/plain": [
              "array([ 1.40190566e+01,  3.91069256e+00,  2.78209808e+00, -8.10462217e-03])"
            ]
          },
          "metadata": {
            "tags": []
          },
          "execution_count": 95
        }
      ]
    },
    {
      "cell_type": "markdown",
      "metadata": {
        "id": "zPigasRPlLIa"
      },
      "source": [
        "**Посмотрим на среднеквадратичную ошибку на последней итерации.**"
      ]
    },
    {
      "cell_type": "code",
      "metadata": {
        "id": "iyD1VWvOlLIb",
        "colab": {
          "base_uri": "https://localhost:8080/"
        },
        "outputId": "c718b7a4-af85-4618-e238-eb04e98b3430"
      },
      "source": [
        "stoch_errors_by_iter[-1]\n"
      ],
      "execution_count": null,
      "outputs": [
        {
          "output_type": "execute_result",
          "data": {
            "text/plain": [
              "51.29247673857834"
            ]
          },
          "metadata": {
            "tags": []
          },
          "execution_count": 96
        }
      ]
    },
    {
      "cell_type": "markdown",
      "metadata": {
        "id": "DU-2O_8blLIc"
      },
      "source": [
        "**Какова среднеквадратичная ошибка прогноза значений Sales в виде линейной модели с весами, найденными с помощью градиентного спуска? Полученный результат, округленный до 3 знаков после запятой, является ответом на *'4 задание'*.**"
      ]
    },
    {
      "cell_type": "code",
      "metadata": {
        "id": "1FSA7SkqlLIc",
        "colab": {
          "base_uri": "https://localhost:8080/"
        },
        "outputId": "204af570-8c23-4606-d0fd-0c4b606c8d16"
      },
      "source": [
        "answer4 = mserror(y[:,0], linear_prediction(X, stoch_grad_desc_weights).flatten())\n",
        "print(round(answer4, 3))"
      ],
      "execution_count": null,
      "outputs": [
        {
          "output_type": "stream",
          "text": [
            "2.784\n"
          ],
          "name": "stdout"
        }
      ]
    }
  ]
}